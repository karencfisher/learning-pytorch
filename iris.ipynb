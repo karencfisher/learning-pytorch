{
 "cells": [
  {
   "cell_type": "code",
   "execution_count": 1,
   "metadata": {},
   "outputs": [
    {
     "name": "stderr",
     "output_type": "stream",
     "text": [
      "c:\\Users\\karen\\Anaconda3\\lib\\site-packages\\scipy\\__init__.py:138: UserWarning: A NumPy version >=1.16.5 and <1.23.0 is required for this version of SciPy (detected version 1.24.2)\n",
      "  warnings.warn(f\"A NumPy version >={np_minversion} and <{np_maxversion} is required for this version of \"\n"
     ]
    }
   ],
   "source": [
    "import numpy as np\n",
    "import pandas as pd\n",
    "import matplotlib.pyplot as plt\n",
    "from sklearn.model_selection import train_test_split\n",
    "from sklearn.preprocessing import LabelEncoder\n",
    "from sklearn.metrics import confusion_matrix\n",
    "import torch\n",
    "from torch.utils.data import TensorDataset, DataLoader\n",
    "\n",
    "from model_harness import ModelHarness\n",
    "import utils\n"
   ]
  },
  {
   "attachments": {},
   "cell_type": "markdown",
   "metadata": {},
   "source": [
    "## Load and prepare data"
   ]
  },
  {
   "cell_type": "code",
   "execution_count": 2,
   "metadata": {},
   "outputs": [
    {
     "data": {
      "text/html": [
       "<div>\n",
       "<style scoped>\n",
       "    .dataframe tbody tr th:only-of-type {\n",
       "        vertical-align: middle;\n",
       "    }\n",
       "\n",
       "    .dataframe tbody tr th {\n",
       "        vertical-align: top;\n",
       "    }\n",
       "\n",
       "    .dataframe thead th {\n",
       "        text-align: right;\n",
       "    }\n",
       "</style>\n",
       "<table border=\"1\" class=\"dataframe\">\n",
       "  <thead>\n",
       "    <tr style=\"text-align: right;\">\n",
       "      <th></th>\n",
       "      <th>Id</th>\n",
       "      <th>SepalLengthCm</th>\n",
       "      <th>SepalWidthCm</th>\n",
       "      <th>PetalLengthCm</th>\n",
       "      <th>PetalWidthCm</th>\n",
       "      <th>Species</th>\n",
       "    </tr>\n",
       "  </thead>\n",
       "  <tbody>\n",
       "    <tr>\n",
       "      <th>0</th>\n",
       "      <td>1</td>\n",
       "      <td>5.1</td>\n",
       "      <td>3.5</td>\n",
       "      <td>1.4</td>\n",
       "      <td>0.2</td>\n",
       "      <td>Iris-setosa</td>\n",
       "    </tr>\n",
       "    <tr>\n",
       "      <th>1</th>\n",
       "      <td>2</td>\n",
       "      <td>4.9</td>\n",
       "      <td>3.0</td>\n",
       "      <td>1.4</td>\n",
       "      <td>0.2</td>\n",
       "      <td>Iris-setosa</td>\n",
       "    </tr>\n",
       "    <tr>\n",
       "      <th>2</th>\n",
       "      <td>3</td>\n",
       "      <td>4.7</td>\n",
       "      <td>3.2</td>\n",
       "      <td>1.3</td>\n",
       "      <td>0.2</td>\n",
       "      <td>Iris-setosa</td>\n",
       "    </tr>\n",
       "    <tr>\n",
       "      <th>3</th>\n",
       "      <td>4</td>\n",
       "      <td>4.6</td>\n",
       "      <td>3.1</td>\n",
       "      <td>1.5</td>\n",
       "      <td>0.2</td>\n",
       "      <td>Iris-setosa</td>\n",
       "    </tr>\n",
       "    <tr>\n",
       "      <th>4</th>\n",
       "      <td>5</td>\n",
       "      <td>5.0</td>\n",
       "      <td>3.6</td>\n",
       "      <td>1.4</td>\n",
       "      <td>0.2</td>\n",
       "      <td>Iris-setosa</td>\n",
       "    </tr>\n",
       "  </tbody>\n",
       "</table>\n",
       "</div>"
      ],
      "text/plain": [
       "   Id  SepalLengthCm  SepalWidthCm  PetalLengthCm  PetalWidthCm      Species\n",
       "0   1            5.1           3.5            1.4           0.2  Iris-setosa\n",
       "1   2            4.9           3.0            1.4           0.2  Iris-setosa\n",
       "2   3            4.7           3.2            1.3           0.2  Iris-setosa\n",
       "3   4            4.6           3.1            1.5           0.2  Iris-setosa\n",
       "4   5            5.0           3.6            1.4           0.2  Iris-setosa"
      ]
     },
     "execution_count": 2,
     "metadata": {},
     "output_type": "execute_result"
    }
   ],
   "source": [
    "df = pd.read_csv('Iris.csv')\n",
    "df.head()"
   ]
  },
  {
   "attachments": {},
   "cell_type": "markdown",
   "metadata": {},
   "source": [
    "Get train and test data"
   ]
  },
  {
   "cell_type": "code",
   "execution_count": 3,
   "metadata": {},
   "outputs": [],
   "source": [
    "x = df.iloc[:, 1:5].values\n",
    "y = df['Species'].values\n",
    "le = LabelEncoder()\n",
    "y = le.fit_transform(y)\n",
    "\n",
    "x_train, x_test, y_train, y_test = train_test_split(x, y, \n",
    "                                                    test_size=1./3., \n",
    "                                                    random_state=42)"
   ]
  },
  {
   "attachments": {},
   "cell_type": "markdown",
   "metadata": {},
   "source": [
    "Normalize data and prepare Torch dataset"
   ]
  },
  {
   "cell_type": "code",
   "execution_count": 4,
   "metadata": {},
   "outputs": [],
   "source": [
    "normalize = utils.Normalize()\n",
    "x_train = torch.from_numpy(normalize.fit_transform(x_train)).float()\n",
    "y_train = torch.from_numpy(y_train).long()\n",
    "x_test = torch.from_numpy(normalize.transform(x_test)).float()\n",
    "y_test = torch.from_numpy(y_test).long()\n",
    "\n",
    "torch.manual_seed(42)\n",
    "train_ds = TensorDataset(x_train, y_train)\n",
    "train_dl = DataLoader(train_ds, 2, shuffle=True)\n",
    "\n",
    "test_ds = TensorDataset(x_test, y_test)\n",
    "test_dl = DataLoader(test_ds, 2, shuffle=False)\n"
   ]
  },
  {
   "attachments": {},
   "cell_type": "markdown",
   "metadata": {},
   "source": [
    "## Define the model"
   ]
  },
  {
   "cell_type": "code",
   "execution_count": 5,
   "metadata": {},
   "outputs": [
    {
     "name": "stdout",
     "output_type": "stream",
     "text": [
      "Device = cpu\n"
     ]
    },
    {
     "data": {
      "text/plain": [
       "Model(\n",
       "  (layer1): Linear(in_features=4, out_features=16, bias=True)\n",
       "  (sigmoid): Sigmoid()\n",
       "  (layer2): Linear(in_features=16, out_features=3, bias=True)\n",
       "  (softmax): Softmax(dim=1)\n",
       ")"
      ]
     },
     "execution_count": 5,
     "metadata": {},
     "output_type": "execute_result"
    }
   ],
   "source": [
    "class Model(torch.nn.Module):\n",
    "    def __init__(self, input_size, hidden_size, output_size):\n",
    "        super().__init__()\n",
    "        self.layer1 = torch.nn.Linear(input_size, hidden_size)\n",
    "        self.sigmoid = torch.nn.Sigmoid()\n",
    "        self.layer2 = torch.nn.Linear(hidden_size, output_size)\n",
    "        self.softmax = torch.nn.Softmax(dim=1)\n",
    "\n",
    "    def forward(self, x):\n",
    "        x = self.layer1(x)\n",
    "        x = self.sigmoid(x)\n",
    "        x = self.layer2(x)\n",
    "        x = self.softmax(x)\n",
    "        return x \n",
    "\n",
    "model = Model(x_train.shape[1], 16, 3)\n",
    "\n",
    "\"\"\" model = torch.nn.Sequential(\n",
    "    torch.nn.Linear(x_train.shape[1], 16),\n",
    "    torch.nn.Sigmoid(),\n",
    "    torch.nn.Linear(16, 3),\n",
    "    torch.nn.Softmax(dim=1)\n",
    ") \"\"\"\n",
    "\n",
    "trainer = ModelHarness(model,\n",
    "                       torch.nn.CrossEntropyLoss(),\n",
    "                       torch.optim.Adam,\n",
    "                       learning_rate = 0.001)\n",
    "\n",
    "model"
   ]
  },
  {
   "attachments": {},
   "cell_type": "markdown",
   "metadata": {},
   "source": [
    "## Try it out!"
   ]
  },
  {
   "cell_type": "code",
   "execution_count": 6,
   "metadata": {},
   "outputs": [
    {
     "name": "stdout",
     "output_type": "stream",
     "text": [
      "Epoch 1\n",
      "50/50[====================] 0.0690 sec - Loss: 1.1023 - Accuracy: 31.00%\n",
      "Epoch 2\n",
      "50/50[====================] 0.0500 sec - Loss: 1.0914 - Accuracy: 31.00%\n",
      "Epoch 3\n",
      "50/50[====================] 0.0490 sec - Loss: 1.0822 - Accuracy: 31.00%\n",
      "Epoch 4\n",
      "50/50[====================] 0.0540 sec - Loss: 1.0732 - Accuracy: 42.00%\n",
      "Epoch 5\n",
      "50/50[====================] 0.0720 sec - Loss: 1.0654 - Accuracy: 48.00%\n",
      "Epoch 6\n",
      "50/50[====================] 0.0480 sec - Loss: 1.0563 - Accuracy: 63.00%\n",
      "Epoch 7\n",
      "50/50[====================] 0.0450 sec - Loss: 1.0470 - Accuracy: 68.00%\n",
      "Epoch 8\n",
      "50/50[====================] 0.0440 sec - Loss: 1.0343 - Accuracy: 65.00%\n",
      "Epoch 9\n",
      "50/50[====================] 0.0520 sec - Loss: 1.0213 - Accuracy: 65.00%\n",
      "Epoch 10\n",
      "50/50[====================] 0.0460 sec - Loss: 1.0061 - Accuracy: 67.00%\n",
      "Epoch 11\n",
      "50/50[====================] 0.0440 sec - Loss: 0.9906 - Accuracy: 65.00%\n",
      "Epoch 12\n",
      "50/50[====================] 0.0440 sec - Loss: 0.9727 - Accuracy: 65.00%\n",
      "Epoch 13\n",
      "50/50[====================] 0.0560 sec - Loss: 0.9557 - Accuracy: 65.00%\n",
      "Epoch 14\n",
      "50/50[====================] 0.1149 sec - Loss: 0.9390 - Accuracy: 65.00%\n",
      "Epoch 15\n",
      "50/50[====================] 0.0530 sec - Loss: 0.9250 - Accuracy: 65.00%\n",
      "Epoch 16\n",
      "50/50[====================] 0.0560 sec - Loss: 0.9101 - Accuracy: 65.00%\n",
      "Epoch 17\n",
      "50/50[====================] 0.0490 sec - Loss: 0.8982 - Accuracy: 65.00%\n",
      "Epoch 18\n",
      "50/50[====================] 0.0490 sec - Loss: 0.8867 - Accuracy: 65.00%\n",
      "Epoch 19\n",
      "50/50[====================] 0.0510 sec - Loss: 0.8764 - Accuracy: 66.00%\n",
      "Epoch 20\n",
      "50/50[====================] 0.0860 sec - Loss: 0.8674 - Accuracy: 66.00%\n",
      "Epoch 21\n",
      "50/50[====================] 0.0520 sec - Loss: 0.8591 - Accuracy: 67.00%\n",
      "Epoch 22\n",
      "50/50[====================] 0.0520 sec - Loss: 0.8520 - Accuracy: 68.00%\n",
      "Epoch 23\n",
      "50/50[====================] 0.0540 sec - Loss: 0.8443 - Accuracy: 69.00%\n",
      "Epoch 24\n",
      "50/50[====================] 0.0550 sec - Loss: 0.8372 - Accuracy: 73.00%\n",
      "Epoch 25\n",
      "50/50[====================] 0.0570 sec - Loss: 0.8312 - Accuracy: 78.00%\n",
      "Epoch 26\n",
      "50/50[====================] 0.0570 sec - Loss: 0.8248 - Accuracy: 81.00%\n",
      "Epoch 27\n",
      "50/50[====================] 0.0610 sec - Loss: 0.8178 - Accuracy: 84.00%\n",
      "Epoch 28\n",
      "50/50[====================] 0.0510 sec - Loss: 0.8113 - Accuracy: 87.00%\n",
      "Epoch 29\n",
      "50/50[====================] 0.0500 sec - Loss: 0.8058 - Accuracy: 87.00%\n",
      "Epoch 30\n",
      "50/50[====================] 0.0440 sec - Loss: 0.8000 - Accuracy: 90.00%\n",
      "Epoch 31\n",
      "50/50[====================] 0.0490 sec - Loss: 0.7953 - Accuracy: 89.00%\n",
      "Epoch 32\n",
      "50/50[====================] 0.0460 sec - Loss: 0.7889 - Accuracy: 89.00%\n",
      "Epoch 33\n",
      "50/50[====================] 0.0470 sec - Loss: 0.7836 - Accuracy: 90.00%\n",
      "Epoch 34\n",
      "50/50[====================] 0.0460 sec - Loss: 0.7783 - Accuracy: 92.00%\n",
      "Epoch 35\n",
      "50/50[====================] 0.0550 sec - Loss: 0.7732 - Accuracy: 93.00%\n",
      "Epoch 36\n",
      "50/50[====================] 0.0470 sec - Loss: 0.7682 - Accuracy: 91.00%\n",
      "Epoch 37\n",
      "50/50[====================] 0.0490 sec - Loss: 0.7633 - Accuracy: 93.00%\n",
      "Epoch 38\n",
      "50/50[====================] 0.0500 sec - Loss: 0.7586 - Accuracy: 93.00%\n",
      "Epoch 39\n",
      "50/50[====================] 0.0540 sec - Loss: 0.7540 - Accuracy: 93.00%\n",
      "Epoch 40\n",
      "50/50[====================] 0.0550 sec - Loss: 0.7506 - Accuracy: 93.00%\n",
      "Epoch 41\n",
      "50/50[====================] 0.0470 sec - Loss: 0.7457 - Accuracy: 94.00%\n",
      "Epoch 42\n",
      "50/50[====================] 0.0460 sec - Loss: 0.7418 - Accuracy: 94.00%\n",
      "Epoch 43\n",
      "50/50[====================] 0.0450 sec - Loss: 0.7377 - Accuracy: 94.00%\n",
      "Epoch 44\n",
      "50/50[====================] 0.0530 sec - Loss: 0.7332 - Accuracy: 93.00%\n",
      "Epoch 45\n",
      "50/50[====================] 0.0470 sec - Loss: 0.7305 - Accuracy: 93.00%\n",
      "Epoch 46\n",
      "50/50[====================] 0.0460 sec - Loss: 0.7267 - Accuracy: 94.00%\n",
      "Epoch 47\n",
      "50/50[====================] 0.0450 sec - Loss: 0.7224 - Accuracy: 95.00%\n",
      "Epoch 48\n",
      "50/50[====================] 0.0600 sec - Loss: 0.7205 - Accuracy: 93.00%\n",
      "Epoch 49\n",
      "50/50[====================] 0.0550 sec - Loss: 0.7160 - Accuracy: 94.00%\n",
      "Epoch 50\n",
      "50/50[====================] 0.0500 sec - Loss: 0.7136 - Accuracy: 95.00%\n"
     ]
    }
   ],
   "source": [
    "hist = trainer.train(train_dl, 50)\n"
   ]
  },
  {
   "cell_type": "code",
   "execution_count": 7,
   "metadata": {},
   "outputs": [
    {
     "data": {
      "image/png": "[encoded data removed]",
      "text/plain": [
       "<Figure size 648x216 with 2 Axes>"
      ]
     },
     "metadata": {
      "needs_background": "light"
     },
     "output_type": "display_data"
    }
   ],
   "source": [
    "utils.plot_history(hist)"
   ]
  },
  {
   "attachments": {},
   "cell_type": "markdown",
   "metadata": {},
   "source": [
    "Evaluate the model"
   ]
  },
  {
   "cell_type": "code",
   "execution_count": 8,
   "metadata": {},
   "outputs": [
    {
     "name": "stdout",
     "output_type": "stream",
     "text": [
      "25/25[====================] 0.0070 sec - Accuracy 98.00%\n"
     ]
    }
   ],
   "source": [
    "preds, labels, _ = trainer.evaluate(test_dl)\n"
   ]
  },
  {
   "cell_type": "code",
   "execution_count": 9,
   "metadata": {},
   "outputs": [
    {
     "data": {
      "text/plain": [
       "array([[19,  0,  0],\n",
       "       [ 0, 14,  1],\n",
       "       [ 0,  0, 16]], dtype=int64)"
      ]
     },
     "execution_count": 9,
     "metadata": {},
     "output_type": "execute_result"
    }
   ],
   "source": [
    "confusion_matrix(y_test, labels)"
   ]
  },
  {
   "cell_type": "code",
   "execution_count": null,
   "metadata": {},
   "outputs": [],
   "source": []
  }
 ],
 "metadata": {
  "kernelspec": {
   "display_name": "base",
   "language": "python",
   "name": "python3"
  },
  "language_info": {
   "codemirror_mode": {
    "name": "ipython",
    "version": 3
   },
   "file_extension": ".py",
   "mimetype": "text/x-python",
   "name": "python",
   "nbconvert_exporter": "python",
   "pygments_lexer": "ipython3",
   "version": "3.8.8"
  },
  "orig_nbformat": 4
 },
 "nbformat": 4,
 "nbformat_minor": 2
}
