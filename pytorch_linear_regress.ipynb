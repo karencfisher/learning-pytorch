{
  "cells": [
    {
      "cell_type": "code",
      "execution_count": 1,
      "metadata": {
        "id": "FQ56d7T7tZ38"
      },
      "outputs": [],
      "source": [
        "import torch\n",
        "import numpy as np\n",
        "import matplotlib.pyplot as plt"
      ]
    },
    {
      "cell_type": "markdown",
      "metadata": {
        "id": "XGon5Sf78UIT"
      },
      "source": [
        "## Make some noise!"
      ]
    },
    {
      "cell_type": "code",
      "execution_count": 4,
      "metadata": {
        "colab": {
          "base_uri": "https://localhost:8080/",
          "height": 265
        },
        "id": "s4-CIO-atflb",
        "outputId": "99d584f8-72c4-4052-fe7b-82fa8fcf1faf"
      },
      "outputs": [
        {
          "data": {
            "image/png": "[encoded data removed]",
            "text/plain": [
              "<Figure size 432x288 with 1 Axes>"
            ]
          },
          "metadata": {
            "needs_background": "light"
          },
          "output_type": "display_data"
        }
      ],
      "source": [
        "x = np.arange(10, dtype=np.float32)\n",
        "y = 2 * x + 3\n",
        "y += np.random.normal(scale=2, size=10)\n",
        "\n",
        "plt.scatter(x, y);"
      ]
    },
    {
      "cell_type": "markdown",
      "metadata": {
        "id": "wYN0VNPO8dwg"
      },
      "source": [
        "## Act normal"
      ]
    },
    {
      "cell_type": "code",
      "execution_count": 5,
      "metadata": {
        "id": "6Ztu257vvL87"
      },
      "outputs": [],
      "source": [
        "class Normalize:\n",
        "  def fit(self, x):\n",
        "    self.avg = np.mean(x)\n",
        "    self.std = np.std(x)\n",
        "\n",
        "  def transform(self, x):\n",
        "    return (x - self.avg) / self.std"
      ]
    },
    {
      "cell_type": "code",
      "execution_count": 6,
      "metadata": {
        "id": "qevBUWf4w4lB"
      },
      "outputs": [],
      "source": [
        "nor = Normalize()\n",
        "nor.fit(x)\n",
        "x_train = torch.from_numpy(nor.transform(x).reshape(-1, 1))\n",
        "y_train = torch.from_numpy(y)\n"
      ]
    },
    {
      "cell_type": "markdown",
      "metadata": {
        "id": "WqV5h3pP8iov"
      },
      "source": [
        "## Build the model"
      ]
    },
    {
      "cell_type": "code",
      "execution_count": 7,
      "metadata": {
        "id": "oRsrxGJtyk4J"
      },
      "outputs": [],
      "source": [
        "class LinReg:\n",
        "  def __init__(self, lr=0.001):\n",
        "    self.weight = torch.randn(1, requires_grad=True)\n",
        "    self.bias = torch.zeros(1, requires_grad=True)\n",
        "    self.lr = lr\n",
        "\n",
        "  def __call__(self, x):\n",
        "    return x @ self.weight + self.bias\n",
        "\n",
        "  def update(self):\n",
        "    with torch.no_grad():\n",
        "      self.weight -= self.lr * self.weight.grad\n",
        "      self.bias -= self.lr * self.bias.grad\n",
        "      self.weight.grad.zero_()\n",
        "      self.bias.grad.zero_()\n",
        "\n",
        "\n",
        "def loss(y, y_hat):\n",
        "  return (y - y_hat).pow(2).mean()\n",
        "\n",
        "def r_2(y, y_hat):\n",
        "  ssr = np.sum((y - y_hat) ** 2)\n",
        "  sst = np.sum((y - np.mean(y)) ** 2)\n",
        "  return 1 - ssr / sst\n",
        "\n",
        "def train(model, x, y, epochs, verbose=10):\n",
        "  for epoch in range(1, epochs + 1):\n",
        "    pred = model(x)\n",
        "    l = loss(y, pred)\n",
        "    l.backward()\n",
        "    model.update()\n",
        "    if epoch % verbose == 0:\n",
        "      print(f'Epoch {epoch} - Loss {l.item():.4f}')\n"
      ]
    },
    {
      "cell_type": "markdown",
      "metadata": {
        "id": "MZkqn4Tl8mlY"
      },
      "source": [
        "## Do it!"
      ]
    },
    {
      "cell_type": "code",
      "execution_count": 8,
      "metadata": {
        "colab": {
          "base_uri": "https://localhost:8080/"
        },
        "id": "_pKz9ZhI0GRB",
        "outputId": "bbd94534-8924-4ae7-e5ac-75d902dc9323"
      },
      "outputs": [
        {
          "name": "stdout",
          "output_type": "stream",
          "text": [
            "Epoch 10 - Loss 112.3800\n",
            "Epoch 20 - Loss 75.5158\n",
            "Epoch 30 - Loss 50.9049\n",
            "Epoch 40 - Loss 34.4745\n",
            "Epoch 50 - Loss 23.5054\n",
            "Epoch 60 - Loss 16.1824\n",
            "Epoch 70 - Loss 11.2935\n",
            "Epoch 80 - Loss 8.0296\n",
            "Epoch 90 - Loss 5.8506\n",
            "Epoch 100 - Loss 4.3959\n",
            "Epoch 110 - Loss 3.4247\n",
            "Epoch 120 - Loss 2.7764\n",
            "Epoch 130 - Loss 2.3435\n",
            "Epoch 140 - Loss 2.0545\n",
            "Epoch 150 - Loss 1.8616\n",
            "Epoch 160 - Loss 1.7328\n",
            "Epoch 170 - Loss 1.6468\n",
            "Epoch 180 - Loss 1.5894\n",
            "Epoch 190 - Loss 1.5511\n",
            "Epoch 200 - Loss 1.5255\n"
          ]
        }
      ],
      "source": [
        "model = LinReg(lr=0.01)\n",
        "train(model, x_train, y_train, 200)"
      ]
    },
    {
      "cell_type": "markdown",
      "metadata": {
        "id": "BfGVlEdj-xTB"
      },
      "source": [
        "## Evaluate"
      ]
    },
    {
      "cell_type": "code",
      "execution_count": 9,
      "metadata": {
        "colab": {
          "base_uri": "https://localhost:8080/",
          "height": 281
        },
        "id": "FrzgJor_7UoI",
        "outputId": "11b579e0-75f0-463f-bb53-9a683c5f584d"
      },
      "outputs": [
        {
          "data": {
            "image/png": "[encoded data removed]",
            "text/plain": [
              "<Figure size 432x288 with 1 Axes>"
            ]
          },
          "metadata": {
            "needs_background": "light"
          },
          "output_type": "display_data"
        }
      ],
      "source": [
        "y_hat = model(x_train).detach().numpy()\n",
        "\n",
        "r = r_2(y, y_hat)\n",
        "\n",
        "plt.scatter(x, y)\n",
        "plt.plot(x, y_hat, color='red')\n",
        "plt.title(f'R^2 = {r:.4f}')\n",
        "plt.show()"
      ]
    },
    {
      "cell_type": "code",
      "execution_count": null,
      "metadata": {},
      "outputs": [],
      "source": []
    },
    {
      "attachments": {},
      "cell_type": "markdown",
      "metadata": {},
      "source": [
        "## With torch.nn"
      ]
    },
    {
      "cell_type": "code",
      "execution_count": 25,
      "metadata": {},
      "outputs": [],
      "source": [
        "loss_fn = torch.nn.MSELoss(reduction='mean')\n",
        "model = torch.nn.Linear(1, 1)\n",
        "optimizer = torch.optim.SGD(model.parameters(), lr=0.01)\n",
        "\n",
        "def train2(x, y, epochs=200, verbose=10):\n",
        "    for epoch in range(1, epochs + 1):\n",
        "        pred = model(x)[:, 0]\n",
        "        l = loss_fn(y, pred)\n",
        "        l.backward()\n",
        "        optimizer.step()\n",
        "        optimizer.zero_grad()\n",
        "        if epoch % verbose == 0:\n",
        "            print(f'Epoch {epoch} - Loss {l.item():.4f}')\n"
      ]
    },
    {
      "cell_type": "code",
      "execution_count": 26,
      "metadata": {},
      "outputs": [
        {
          "name": "stdout",
          "output_type": "stream",
          "text": [
            "Epoch 10 - Loss 142.2630\n",
            "Epoch 20 - Loss 95.4659\n",
            "Epoch 30 - Loss 64.2238\n",
            "Epoch 40 - Loss 43.3663\n",
            "Epoch 50 - Loss 29.4417\n",
            "Epoch 60 - Loss 20.1455\n",
            "Epoch 70 - Loss 13.9393\n",
            "Epoch 80 - Loss 9.7960\n",
            "Epoch 90 - Loss 7.0298\n",
            "Epoch 100 - Loss 5.1832\n",
            "Epoch 110 - Loss 3.9503\n",
            "Epoch 120 - Loss 3.1272\n",
            "Epoch 130 - Loss 2.5778\n",
            "Epoch 140 - Loss 2.2109\n",
            "Epoch 150 - Loss 1.9660\n",
            "Epoch 160 - Loss 1.8025\n",
            "Epoch 170 - Loss 1.6934\n",
            "Epoch 180 - Loss 1.6205\n",
            "Epoch 190 - Loss 1.5718\n",
            "Epoch 200 - Loss 1.5394\n"
          ]
        }
      ],
      "source": [
        "train2(x_train, y_train)"
      ]
    },
    {
      "cell_type": "code",
      "execution_count": 27,
      "metadata": {},
      "outputs": [
        {
          "data": {
            "image/png": "[encoded data removed]",
            "text/plain": [
              "<Figure size 432x288 with 1 Axes>"
            ]
          },
          "metadata": {
            "needs_background": "light"
          },
          "output_type": "display_data"
        }
      ],
      "source": [
        "y_hat = model(x_train)[:,0].detach().numpy()\n",
        "\n",
        "r = r_2(y_hat, y)\n",
        "\n",
        "plt.scatter(x, y)\n",
        "plt.plot(x, y_hat, color='red')\n",
        "plt.title(f'R^2 = {r:.4f}')\n",
        "plt.show()"
      ]
    }
  ],
  "metadata": {
    "colab": {
      "provenance": []
    },
    "kernelspec": {
      "display_name": "base",
      "language": "python",
      "name": "python3"
    },
    "language_info": {
      "codemirror_mode": {
        "name": "ipython",
        "version": 3
      },
      "file_extension": ".py",
      "mimetype": "text/x-python",
      "name": "python",
      "nbconvert_exporter": "python",
      "pygments_lexer": "ipython3",
      "version": "3.8.8"
    },
    "vscode": {
      "interpreter": {
        "hash": "e94a37844a0b2c58d590d23a1d3c94eb0291991d9599c29c548c65f82166f260"
      }
    }
  },
  "nbformat": 4,
  "nbformat_minor": 0
}
