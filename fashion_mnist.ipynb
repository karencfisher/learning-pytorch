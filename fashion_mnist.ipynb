{
 "cells": [
  {
   "cell_type": "code",
   "execution_count": 1,
   "metadata": {},
   "outputs": [],
   "source": [
    "import numpy as np\n",
    "import matplotlib.pyplot as plt\n",
    "\n",
    "import torch\n",
    "import torchvision\n",
    "import torchvision.transforms as transforms\n",
    "\n",
    "\n",
    "from model_harness import ModelHarness\n",
    "import utils"
   ]
  },
  {
   "cell_type": "code",
   "execution_count": 2,
   "metadata": {},
   "outputs": [
    {
     "name": "stdout",
     "output_type": "stream",
     "text": [
      "Training set has 60000 instances\n",
      "Validation set has 10000 instances\n"
     ]
    }
   ],
   "source": [
    "transform = transforms.Compose(\n",
    "    [transforms.ToTensor(),\n",
    "    transforms.Normalize((0.5,), (0.5,))])\n",
    "\n",
    "# Create datasets for training & validation, download if necessary\n",
    "training_set = torchvision.datasets.FashionMNIST('./data', train=True, transform=transform, download=True)\n",
    "validation_set = torchvision.datasets.FashionMNIST('./data', train=False, transform=transform, download=True)\n",
    "\n",
    "# Create data loaders for our datasets; shuffle for training, not for validation\n",
    "training_loader = torch.utils.data.DataLoader(training_set, batch_size=32, shuffle=True, num_workers=2)\n",
    "validation_loader = torch.utils.data.DataLoader(validation_set, batch_size=32, shuffle=False, num_workers=2)\n",
    "\n",
    "# Class labels\n",
    "classes = ('T-shirt/top', 'Trouser', 'Pullover', 'Dress', 'Coat',\n",
    "        'Sandal', 'Shirt', 'Sneaker', 'Bag', 'Ankle Boot')\n",
    "\n",
    "# Report split sizes\n",
    "print('Training set has {} instances'.format(len(training_set)))\n",
    "print('Validation set has {} instances'.format(len(validation_set)))"
   ]
  },
  {
   "cell_type": "code",
   "execution_count": 3,
   "metadata": {},
   "outputs": [
    {
     "data": {
      "text/plain": [
       "GarmentClassifier(\n",
       "  (conv1): Conv2d(1, 6, kernel_size=(5, 5), stride=(1, 1))\n",
       "  (pool): MaxPool2d(kernel_size=2, stride=2, padding=0, dilation=1, ceil_mode=False)\n",
       "  (conv2): Conv2d(6, 16, kernel_size=(5, 5), stride=(1, 1))\n",
       "  (fc1): Linear(in_features=256, out_features=120, bias=True)\n",
       "  (fc2): Linear(in_features=120, out_features=84, bias=True)\n",
       "  (fc3): Linear(in_features=84, out_features=10, bias=True)\n",
       ")"
      ]
     },
     "execution_count": 3,
     "metadata": {},
     "output_type": "execute_result"
    }
   ],
   "source": [
    "import torch.nn as nn\n",
    "import torch.nn.functional as F\n",
    "\n",
    "# PyTorch models inherit from torch.nn.Module\n",
    "class GarmentClassifier(nn.Module):\n",
    "    def __init__(self):\n",
    "        super(GarmentClassifier, self).__init__()\n",
    "        self.conv1 = nn.Conv2d(1, 6, 5)\n",
    "        self.pool = nn.MaxPool2d(2, 2)\n",
    "        self.conv2 = nn.Conv2d(6, 16, 5)\n",
    "        self.fc1 = nn.Linear(16 * 4 * 4, 120)\n",
    "        self.fc2 = nn.Linear(120, 84)\n",
    "        self.fc3 = nn.Linear(84, 10)\n",
    "\n",
    "    def forward(self, x):\n",
    "        x = self.pool(F.relu(self.conv1(x)))\n",
    "        x = self.pool(F.relu(self.conv2(x)))\n",
    "        x = x.view(-1, 16 * 4 * 4)\n",
    "        x = F.relu(self.fc1(x))\n",
    "        x = F.relu(self.fc2(x))\n",
    "        x = self.fc3(x)\n",
    "        return x\n",
    "    \n",
    "model = GarmentClassifier()\n",
    "model"
   ]
  },
  {
   "cell_type": "code",
   "execution_count": 4,
   "metadata": {},
   "outputs": [],
   "source": [
    "trainer = ModelHarness(model,\n",
    "                       torch.nn.CrossEntropyLoss(),\n",
    "                       torch.optim.Adam,\n",
    "                       learning_rate = 0.001)"
   ]
  },
  {
   "cell_type": "code",
   "execution_count": 5,
   "metadata": {},
   "outputs": [
    {
     "name": "stdout",
     "output_type": "stream",
     "text": [
      "Epoch 1\n",
      "1875/1875[====================] 1 min 8.42 sec - Loss: 0.6200 - Accuracy: 76.66%\n",
      "Epoch 2\n",
      "1875/1875[====================] 1 min 7.84 sec - Loss: 0.3856 - Accuracy: 85.93%\n",
      "Epoch 3\n",
      "1875/1875[====================] 1 min 13.73 sec - Loss: 0.3326 - Accuracy: 87.85%\n",
      "Epoch 4\n",
      "1875/1875[====================] 1 min 8.67 sec - Loss: 0.3013 - Accuracy: 88.93%\n",
      "Epoch 5\n",
      "1875/1875[====================] 1 min 14.90 sec - Loss: 0.2771 - Accuracy: 89.71%\n",
      "Epoch 6\n",
      "1875/1875[====================] 1 min 19.02 sec - Loss: 0.2605 - Accuracy: 90.24%\n",
      "Epoch 7\n",
      "1875/1875[====================] 1 min 12.13 sec - Loss: 0.2464 - Accuracy: 90.80%\n",
      "Epoch 8\n",
      "1875/1875[====================] 1 min 9.08 sec - Loss: 0.2310 - Accuracy: 91.33%\n",
      "Epoch 9\n",
      "1875/1875[====================] 1 min 8.99 sec - Loss: 0.2191 - Accuracy: 91.69%\n",
      "Epoch 10\n",
      "1875/1875[====================] 1 min 9.18 sec - Loss: 0.2088 - Accuracy: 92.12%\n",
      "Epoch 11\n",
      "1875/1875[====================] 1 min 9.35 sec - Loss: 0.1993 - Accuracy: 92.56%\n",
      "Epoch 12\n",
      "1875/1875[====================] 1 min 10.08 sec - Loss: 0.1910 - Accuracy: 92.75%\n",
      "Epoch 13\n",
      "1875/1875[====================] 1 min 7.06 sec - Loss: 0.1821 - Accuracy: 93.08%\n",
      "Epoch 14\n",
      "1875/1875[====================] 1 min 7.49 sec - Loss: 0.1721 - Accuracy: 93.49%\n",
      "Epoch 15\n",
      "1875/1875[====================] 1 min 11.55 sec - Loss: 0.1663 - Accuracy: 93.61%\n"
     ]
    }
   ],
   "source": [
    "hist = trainer.train(training_loader, 15)"
   ]
  },
  {
   "cell_type": "code",
   "execution_count": 6,
   "metadata": {},
   "outputs": [
    {
     "data": {
      "image/png": "[encoded data removed]",
      "text/plain": [
       "<Figure size 648x216 with 2 Axes>"
      ]
     },
     "metadata": {
      "needs_background": "light"
     },
     "output_type": "display_data"
    }
   ],
   "source": [
    "utils.plot_history(hist)"
   ]
  },
  {
   "cell_type": "code",
   "execution_count": 7,
   "metadata": {},
   "outputs": [
    {
     "name": "stdout",
     "output_type": "stream",
     "text": [
      "313/313[====================] 3.7799 sec - Accuracy 89.17%\n"
     ]
    }
   ],
   "source": [
    "_, _, _ = trainer.evaluate(validation_loader)"
   ]
  }
 ],
 "metadata": {
  "kernelspec": {
   "display_name": "base",
   "language": "python",
   "name": "python3"
  },
  "language_info": {
   "codemirror_mode": {
    "name": "ipython",
    "version": 3
   },
   "file_extension": ".py",
   "mimetype": "text/x-python",
   "name": "python",
   "nbconvert_exporter": "python",
   "pygments_lexer": "ipython3",
   "version": "3.8.8"
  },
  "orig_nbformat": 4,
  "vscode": {
   "interpreter": {
    "hash": "e94a37844a0b2c58d590d23a1d3c94eb0291991d9599c29c548c65f82166f260"
   }
  }
 },
 "nbformat": 4,
 "nbformat_minor": 2
}
